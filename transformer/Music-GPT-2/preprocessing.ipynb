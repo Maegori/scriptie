{
 "cells": [
  {
   "cell_type": "markdown",
   "metadata": {},
   "source": [
    "### Data Files Path Preparation"
   ]
  },
  {
   "cell_type": "code",
   "execution_count": 5,
   "metadata": {},
   "outputs": [
    {
     "output_type": "stream",
     "name": "stdout",
     "text": [
      "total midi files :  1593\n"
     ]
    }
   ],
   "source": [
    "import os\n",
    "from os import listdir\n",
    "from os.path import isfile, join\n",
    "\n",
    "# Modify this path to your own MAESTRO dataset\n",
    "maestro_dir = '../../midi_output'\n",
    "\n",
    "data_dirs = []\n",
    "for year in range(1956, 2021):\n",
    "    data_dirs.append(maestro_dir + '/' + str(year))\n",
    "\n",
    "data_files = []\n",
    "for data_dir in data_dirs:\n",
    "    data_files += [join(data_dir, f) for f in listdir(data_dir) if isfile(join(data_dir, f)) if 'mid' in f]\n",
    "\n",
    "data_files.sort()\n",
    "\n",
    "print('total midi files : ', len(data_files))"
   ]
  },
  {
   "cell_type": "markdown",
   "metadata": {},
   "source": [
    "### Event Extract from Midi File"
   ]
  },
  {
   "cell_type": "code",
   "execution_count": 6,
   "metadata": {
    "scrolled": true
   },
   "outputs": [
    {
     "output_type": "stream",
     "name": "stdout",
     "text": [
      "22\n",
      "[[1.53672683e-01 1.00000000e+00 7.50000000e+01 1.00000000e+02]\n",
      " [3.62292285e-01 0.00000000e+00 7.50000000e+01 1.00000000e+02]\n",
      " [3.77034142e-01 1.00000000e+00 4.90000000e+01 1.00000000e+02]\n",
      " ...\n",
      " [2.82606298e+02 0.00000000e+00 5.90000000e+01 1.00000000e+02]\n",
      " [2.82606298e+02 1.00000000e+00 6.10000000e+01 1.00000000e+02]\n",
      " [2.82745229e+02 0.00000000e+00 6.10000000e+01 1.00000000e+02]]\n",
      "<>:20: SyntaxWarning: \"is\" with a literal. Did you mean \"==\"?\n",
      "<>:25: SyntaxWarning: \"is\" with a literal. Did you mean \"==\"?\n",
      "<>:25: SyntaxWarning: \"is\" with a literal. Did you mean \"==\"?\n",
      "<>:29: SyntaxWarning: \"is\" with a literal. Did you mean \"==\"?\n",
      "<>:20: SyntaxWarning: \"is\" with a literal. Did you mean \"==\"?\n",
      "<>:25: SyntaxWarning: \"is\" with a literal. Did you mean \"==\"?\n",
      "<>:25: SyntaxWarning: \"is\" with a literal. Did you mean \"==\"?\n",
      "<>:29: SyntaxWarning: \"is\" with a literal. Did you mean \"==\"?\n",
      "<ipython-input-6-5aac017ce8d9>:20: SyntaxWarning: \"is\" with a literal. Did you mean \"==\"?\n",
      "  if msg.type is 'note_on' and msg.velocity > 0:\n",
      "<ipython-input-6-5aac017ce8d9>:25: SyntaxWarning: \"is\" with a literal. Did you mean \"==\"?\n",
      "  elif msg.type is 'note_off' or (msg.type is 'note_on' and msg.velocity == 0):\n",
      "<ipython-input-6-5aac017ce8d9>:25: SyntaxWarning: \"is\" with a literal. Did you mean \"==\"?\n",
      "  elif msg.type is 'note_off' or (msg.type is 'note_on' and msg.velocity == 0):\n",
      "<ipython-input-6-5aac017ce8d9>:29: SyntaxWarning: \"is\" with a literal. Did you mean \"==\"?\n",
      "  if msg.type is 'control_change':\n"
     ]
    }
   ],
   "source": [
    "import mido\n",
    "import numpy as np\n",
    "\n",
    "\n",
    "def get_eventlist(data_file):\n",
    "    ON = 1\n",
    "    OFF = 0\n",
    "    CC = 2\n",
    "\n",
    "    midi = mido.MidiFile(data_file)\n",
    "\n",
    "    current_time = 0\n",
    "    eventlist = []\n",
    "    cc = False\n",
    "    for msg in midi:\n",
    "        #print(msg)\n",
    "        current_time += msg.time\n",
    "\n",
    "         # NOTE ON CASE\n",
    "        if msg.type is 'note_on' and msg.velocity > 0:\n",
    "            event = [current_time, ON, msg.note, msg.velocity]\n",
    "            eventlist.append(event)\n",
    "\n",
    "         # NOTE OFF CASE        \n",
    "        elif msg.type is 'note_off' or (msg.type is 'note_on' and msg.velocity == 0):\n",
    "            event = [current_time, OFF, msg.note, msg.velocity]\n",
    "            eventlist.append(event)\n",
    "            \n",
    "        if msg.type is 'control_change':\n",
    "            \n",
    "            if msg.control != 64:\n",
    "                continue\n",
    "            \n",
    "            if cc == False and msg.value > 0:\n",
    "                cc = True\n",
    "                event = [current_time, CC, 0, 1]\n",
    "                eventlist.append(event)\n",
    "                \n",
    "            elif cc == True and msg.value == 0:\n",
    "                cc = False\n",
    "                event = [current_time, CC, 0, 0]\n",
    "                eventlist.append(event)\n",
    "                \n",
    "    eventlist = np.array(eventlist)\n",
    "    return eventlist\n",
    "\n",
    "index = np.random.randint(0, len(data_files))\n",
    "print(index)\n",
    "eventlist = get_eventlist(data_files[index])\n",
    "print(eventlist)"
   ]
  },
  {
   "cell_type": "markdown",
   "metadata": {},
   "source": [
    "### Midifile to EventListfile"
   ]
  },
  {
   "cell_type": "code",
   "execution_count": 9,
   "metadata": {
    "scrolled": true
   },
   "outputs": [
    {
     "output_type": "error",
     "ename": "ModuleNotFoundError",
     "evalue": "No module named 'tqdm'",
     "traceback": [
      "\u001b[0;31m---------------------------------------------------------------------------\u001b[0m",
      "\u001b[0;31mModuleNotFoundError\u001b[0m                       Traceback (most recent call last)",
      "\u001b[0;32m<ipython-input-9-72e755c09ab2>\u001b[0m in \u001b[0;36m<module>\u001b[0;34m\u001b[0m\n\u001b[0;32m----> 1\u001b[0;31m \u001b[0;32mfrom\u001b[0m \u001b[0mtqdm\u001b[0m \u001b[0;32mimport\u001b[0m \u001b[0mtqdm_notebook\u001b[0m \u001b[0;32mas\u001b[0m \u001b[0mtqdm\u001b[0m\u001b[0;34m\u001b[0m\u001b[0;34m\u001b[0m\u001b[0m\n\u001b[0m\u001b[1;32m      2\u001b[0m \u001b[0;32mimport\u001b[0m \u001b[0mos\u001b[0m\u001b[0;34m\u001b[0m\u001b[0;34m\u001b[0m\u001b[0m\n\u001b[1;32m      3\u001b[0m \u001b[0;34m\u001b[0m\u001b[0m\n\u001b[1;32m      4\u001b[0m \u001b[0mdataset_dir\u001b[0m \u001b[0;34m=\u001b[0m \u001b[0;34m'dataset'\u001b[0m\u001b[0;34m\u001b[0m\u001b[0;34m\u001b[0m\u001b[0m\n\u001b[1;32m      5\u001b[0m \u001b[0;34m\u001b[0m\u001b[0m\n",
      "\u001b[0;31mModuleNotFoundError\u001b[0m: No module named 'tqdm'"
     ]
    }
   ],
   "source": [
    "from tqdm import tqdm_notebook as tqdm\n",
    "import os\n",
    "\n",
    "dataset_dir = 'dataset'\n",
    "\n",
    "if not os.path.exists(dataset_dir):\n",
    "    os.makedirs(dataset_dir)\n",
    "\n",
    "for i in tqdm(range(len(data_files))):\n",
    "    print(data_files[i])\n",
    "    eventlist = get_eventlist(data_files[i])\n",
    "    print(eventlist.shape)\n",
    "    \n",
    "    save_file = dataset_dir + '/' + str(i)\n",
    "    data = {'eventlist': eventlist}\n",
    "    np.savez(save_file, **data, allow_pickle=False)"
   ]
  },
  {
   "cell_type": "code",
   "execution_count": null,
   "metadata": {},
   "outputs": [],
   "source": []
  }
 ],
 "metadata": {
  "kernelspec": {
   "display_name": "Python 3",
   "language": "python",
   "name": "python3"
  },
  "language_info": {
   "codemirror_mode": {
    "name": "ipython",
    "version": 3
   },
   "file_extension": ".py",
   "mimetype": "text/x-python",
   "name": "python",
   "nbconvert_exporter": "python",
   "pygments_lexer": "ipython3",
   "version": "3.8.6"
  }
 },
 "nbformat": 4,
 "nbformat_minor": 2
}